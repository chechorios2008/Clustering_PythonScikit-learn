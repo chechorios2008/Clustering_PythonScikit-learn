{
 "cells": [
  {
   "cell_type": "markdown",
   "id": "40ca086f",
   "metadata": {},
   "source": [
    "<h1> Clustering con scikit-learn </h1>"
   ]
  },
  {
   "cell_type": "code",
   "execution_count": 2,
   "id": "79f864a5",
   "metadata": {},
   "outputs": [],
   "source": [
    "from sklearn.datasets import make_blobs\n",
    "import pandas as pd\n",
    "import matplotlib.pyplot as plt"
   ]
  },
  {
   "cell_type": "code",
   "execution_count": 3,
   "id": "79eeddc1",
   "metadata": {},
   "outputs": [],
   "source": [
    "x, y = make_blobs(n_samples=100, centers=4, n_features=2, cluster_std=[1,1.5,2,2], random_state=7)"
   ]
  },
  {
   "cell_type": "code",
   "execution_count": 4,
   "id": "4a39391c",
   "metadata": {},
   "outputs": [
    {
     "data": {
      "text/plain": [
       "array([[ -3.38426057,   5.22173974],\n",
       "       [ -1.83623836,  -7.73538367],\n",
       "       [ -7.45617621,   6.19887436],\n",
       "       [ -1.78504307,   1.60974874],\n",
       "       [-10.1249098 ,   6.1338052 ],\n",
       "       [  1.0146433 ,   4.0453507 ],\n",
       "       [ -0.70092735,  -6.98196818],\n",
       "       [  8.99757441,  -2.30228718],\n",
       "       [ -7.9192539 ,   5.72225675],\n",
       "       [  1.9445622 ,  -7.43742299],\n",
       "       [ -0.93442649,  -7.78820426],\n",
       "       [ 11.48819121,   1.33719026],\n",
       "       [ -2.86067816, -11.24623446],\n",
       "       [ -7.90577233,   4.84553865],\n",
       "       [ -2.24228315,   4.38550238],\n",
       "       [  0.56928691, -10.0571088 ],\n",
       "       [  0.6237701 ,  -6.12033956],\n",
       "       [  8.32594634,   0.04535295],\n",
       "       [ -2.11937574, -10.1833945 ],\n",
       "       [ -6.70767333,   5.26896209],\n",
       "       [ -2.52855036,   5.03085908],\n",
       "       [ -8.19937429,   4.07185131],\n",
       "       [ -8.86097416,   7.62744807],\n",
       "       [  0.25552915, -12.26658908],\n",
       "       [  7.09274235,   1.13571881],\n",
       "       [ -8.51922024,   4.14769715],\n",
       "       [  9.58876813,  -2.81738008],\n",
       "       [  9.01302463,  -0.87700276],\n",
       "       [  2.43497366,  -6.59786336],\n",
       "       [ -1.25017865,   4.35580836],\n",
       "       [ -3.34438441,  -6.52894746],\n",
       "       [ -0.15955326,  -6.65074692],\n",
       "       [ -1.06884281,   6.62666284],\n",
       "       [ -1.61175122,  -8.17436194],\n",
       "       [  2.18722279, -10.1737727 ],\n",
       "       [ -8.37240023,   5.85095358],\n",
       "       [  9.60427972,  -0.08821978],\n",
       "       [ -8.60621141,   5.2888995 ],\n",
       "       [ -0.60856145,   3.08398657],\n",
       "       [ -8.20442258,   5.07377123],\n",
       "       [ -3.09016602,  -7.04152693],\n",
       "       [ -1.38123132,   7.0186095 ],\n",
       "       [ -0.73385405,   5.57184343],\n",
       "       [ 12.99525034,  -0.14633618],\n",
       "       [  2.15810511,   5.77286255],\n",
       "       [  9.73610009,  -1.90312369],\n",
       "       [ -8.87906207,   3.31006074],\n",
       "       [ -7.63310097,   5.41838944],\n",
       "       [ 11.67168684,   1.90168239],\n",
       "       [ -9.67805406,   7.06035147],\n",
       "       [  7.40382045,  -2.89493453],\n",
       "       [  3.74252062, -11.55352462],\n",
       "       [  5.65583404,   1.51657898],\n",
       "       [ -2.71731016,  -7.09666856],\n",
       "       [ -3.02220325,   2.89427834],\n",
       "       [ -6.56181535,   5.83567769],\n",
       "       [ -0.40869769,   5.48424704],\n",
       "       [ -4.08286174,  -4.43138623],\n",
       "       [ -0.50231258,   3.61509515],\n",
       "       [ -0.64449683,   2.30462107],\n",
       "       [ -1.68210598,   2.69933042],\n",
       "       [ -1.85814896,  -8.82152863],\n",
       "       [ -1.80695006,   3.13451827],\n",
       "       [ 10.53704107,   1.49429741],\n",
       "       [ -8.09071236,   7.8459709 ],\n",
       "       [  8.98382251,   1.36953411],\n",
       "       [ -8.4747246 ,   3.84365154],\n",
       "       [  9.17207761,   2.16450563],\n",
       "       [  8.26357965,   4.26507189],\n",
       "       [ -1.52585634,   3.58314883],\n",
       "       [ -9.09926319,   5.42682758],\n",
       "       [ 10.83401591,   1.03116336],\n",
       "       [ -6.82313452,   5.75271138],\n",
       "       [ -8.71658329,   4.14513443],\n",
       "       [  8.13768385,   1.76216825],\n",
       "       [  8.49808274,  -1.47400737],\n",
       "       [ 11.74366784,   4.1986779 ],\n",
       "       [  8.51784557,   1.18936152],\n",
       "       [ -1.37077276,  -7.39303673],\n",
       "       [  1.06255408,   5.47343085],\n",
       "       [  1.02316241,   4.15020411],\n",
       "       [ -1.37397855,   6.25893244],\n",
       "       [ -7.42443766,   5.18190153],\n",
       "       [ -3.79908848,  -7.28615161],\n",
       "       [  8.77901728,  -0.92192787],\n",
       "       [ -0.49422339,  -6.28301921],\n",
       "       [ 12.41323255,   1.08360538],\n",
       "       [-10.18217342,   3.79527719],\n",
       "       [-10.53824902,   4.93621651],\n",
       "       [ -1.74499091,   3.76141358],\n",
       "       [  1.90011281,  -8.26484561],\n",
       "       [ -0.24975682,   5.81083201],\n",
       "       [ -7.96853484,   5.33701943],\n",
       "       [  0.97508467,  -6.33439636],\n",
       "       [  9.40816251,   2.33252103],\n",
       "       [  7.07275521,  -0.25993704],\n",
       "       [ -2.6268734 ,  -7.22856996],\n",
       "       [ -1.52109856,   1.80228428],\n",
       "       [ -9.21638774,   6.67084598],\n",
       "       [ -1.68138223,   6.41463135]])"
      ]
     },
     "execution_count": 4,
     "metadata": {},
     "output_type": "execute_result"
    }
   ],
   "source": [
    "x"
   ]
  },
  {
   "cell_type": "code",
   "execution_count": 5,
   "id": "e0018899",
   "metadata": {},
   "outputs": [
    {
     "data": {
      "text/plain": [
       "array([1, 3, 0, 1, 0, 1, 3, 2, 0, 3, 3, 2, 3, 0, 1, 3, 3, 2, 3, 0, 1, 0,\n",
       "       0, 3, 2, 0, 2, 2, 3, 1, 3, 3, 1, 3, 3, 0, 2, 0, 1, 0, 3, 1, 1, 2,\n",
       "       1, 2, 0, 0, 2, 0, 2, 3, 2, 3, 1, 0, 1, 3, 1, 1, 1, 3, 1, 2, 0, 2,\n",
       "       0, 2, 2, 1, 0, 2, 0, 0, 2, 2, 2, 2, 3, 1, 1, 1, 0, 3, 2, 3, 2, 0,\n",
       "       0, 1, 3, 1, 0, 3, 2, 2, 3, 1, 0, 1])"
      ]
     },
     "execution_count": 5,
     "metadata": {},
     "output_type": "execute_result"
    }
   ],
   "source": [
    "y"
   ]
  },
  {
   "cell_type": "code",
   "execution_count": 10,
   "id": "0e131107",
   "metadata": {},
   "outputs": [],
   "source": [
    "df_blobls = pd.DataFrame(\n",
    "        {'x1':x[:,0],\n",
    "        'x2':x[:,1],\n",
    "        'y':y\n",
    "})"
   ]
  },
  {
   "cell_type": "code",
   "execution_count": 11,
   "id": "b3c19762",
   "metadata": {},
   "outputs": [
    {
     "data": {
      "text/html": [
       "<div>\n",
       "<style scoped>\n",
       "    .dataframe tbody tr th:only-of-type {\n",
       "        vertical-align: middle;\n",
       "    }\n",
       "\n",
       "    .dataframe tbody tr th {\n",
       "        vertical-align: top;\n",
       "    }\n",
       "\n",
       "    .dataframe thead th {\n",
       "        text-align: right;\n",
       "    }\n",
       "</style>\n",
       "<table border=\"1\" class=\"dataframe\">\n",
       "  <thead>\n",
       "    <tr style=\"text-align: right;\">\n",
       "      <th></th>\n",
       "      <th>x1</th>\n",
       "      <th>x2</th>\n",
       "      <th>y</th>\n",
       "    </tr>\n",
       "  </thead>\n",
       "  <tbody>\n",
       "    <tr>\n",
       "      <th>0</th>\n",
       "      <td>-3.384261</td>\n",
       "      <td>5.221740</td>\n",
       "      <td>1</td>\n",
       "    </tr>\n",
       "    <tr>\n",
       "      <th>1</th>\n",
       "      <td>-1.836238</td>\n",
       "      <td>-7.735384</td>\n",
       "      <td>3</td>\n",
       "    </tr>\n",
       "    <tr>\n",
       "      <th>2</th>\n",
       "      <td>-7.456176</td>\n",
       "      <td>6.198874</td>\n",
       "      <td>0</td>\n",
       "    </tr>\n",
       "    <tr>\n",
       "      <th>3</th>\n",
       "      <td>-1.785043</td>\n",
       "      <td>1.609749</td>\n",
       "      <td>1</td>\n",
       "    </tr>\n",
       "    <tr>\n",
       "      <th>4</th>\n",
       "      <td>-10.124910</td>\n",
       "      <td>6.133805</td>\n",
       "      <td>0</td>\n",
       "    </tr>\n",
       "    <tr>\n",
       "      <th>...</th>\n",
       "      <td>...</td>\n",
       "      <td>...</td>\n",
       "      <td>...</td>\n",
       "    </tr>\n",
       "    <tr>\n",
       "      <th>95</th>\n",
       "      <td>7.072755</td>\n",
       "      <td>-0.259937</td>\n",
       "      <td>2</td>\n",
       "    </tr>\n",
       "    <tr>\n",
       "      <th>96</th>\n",
       "      <td>-2.626873</td>\n",
       "      <td>-7.228570</td>\n",
       "      <td>3</td>\n",
       "    </tr>\n",
       "    <tr>\n",
       "      <th>97</th>\n",
       "      <td>-1.521099</td>\n",
       "      <td>1.802284</td>\n",
       "      <td>1</td>\n",
       "    </tr>\n",
       "    <tr>\n",
       "      <th>98</th>\n",
       "      <td>-9.216388</td>\n",
       "      <td>6.670846</td>\n",
       "      <td>0</td>\n",
       "    </tr>\n",
       "    <tr>\n",
       "      <th>99</th>\n",
       "      <td>-1.681382</td>\n",
       "      <td>6.414631</td>\n",
       "      <td>1</td>\n",
       "    </tr>\n",
       "  </tbody>\n",
       "</table>\n",
       "<p>100 rows × 3 columns</p>\n",
       "</div>"
      ],
      "text/plain": [
       "           x1        x2  y\n",
       "0   -3.384261  5.221740  1\n",
       "1   -1.836238 -7.735384  3\n",
       "2   -7.456176  6.198874  0\n",
       "3   -1.785043  1.609749  1\n",
       "4  -10.124910  6.133805  0\n",
       "..        ...       ... ..\n",
       "95   7.072755 -0.259937  2\n",
       "96  -2.626873 -7.228570  3\n",
       "97  -1.521099  1.802284  1\n",
       "98  -9.216388  6.670846  0\n",
       "99  -1.681382  6.414631  1\n",
       "\n",
       "[100 rows x 3 columns]"
      ]
     },
     "execution_count": 11,
     "metadata": {},
     "output_type": "execute_result"
    }
   ],
   "source": [
    "df_blobls"
   ]
  },
  {
   "cell_type": "code",
   "execution_count": 15,
   "id": "c44b793e",
   "metadata": {},
   "outputs": [],
   "source": [
    "def plot_clusters(x, y, ax):\n",
    "    y_uniques = pd.Series(y).unique()\n",
    "    \n",
    "    for _ in y_uniques:\n",
    "        x[y==_].plot(\n",
    "            title = f'{len(y_uniques)} Clusters',\n",
    "            kind = 'scatter',\n",
    "            x = 'x1',\n",
    "            y = 'x2',\n",
    "            marker = f'${_}$',\n",
    "            ax = ax\n",
    "        )"
   ]
  },
  {
   "cell_type": "code",
   "execution_count": 17,
   "id": "39caef06",
   "metadata": {},
   "outputs": [
    {
     "data": {
      "image/png": "[encoded data removed]",
      "text/plain": [
       "<Figure size 1500x1000 with 1 Axes>"
      ]
     },
     "metadata": {},
     "output_type": "display_data"
    }
   ],
   "source": [
    "fig, ax = plt.subplots(1,1, figsize=(15,10))\n",
    "x, y = df_blobls[['x1','x2']], df_blobls['y']\n",
    "plot_clusters(x,y,ax)"
   ]
  },
  {
   "cell_type": "code",
   "execution_count": null,
   "id": "ea75e4c5",
   "metadata": {},
   "outputs": [],
   "source": []
  },
  {
   "cell_type": "markdown",
   "id": "ff9d2832",
   "metadata": {},
   "source": [
    "<h4> Aplicando Cluster </h4>"
   ]
  },
  {
   "cell_type": "code",
   "execution_count": null,
   "id": "23e2db0d",
   "metadata": {},
   "outputs": [],
   "source": []
  },
  {
   "cell_type": "code",
   "execution_count": null,
   "id": "69b8a074",
   "metadata": {},
   "outputs": [],
   "source": []
  },
  {
   "cell_type": "code",
   "execution_count": null,
   "id": "6ed28b18",
   "metadata": {},
   "outputs": [],
   "source": []
  },
  {
   "cell_type": "code",
   "execution_count": null,
   "id": "e3a49b78",
   "metadata": {},
   "outputs": [],
   "source": []
  },
  {
   "cell_type": "code",
   "execution_count": null,
   "id": "9244f267",
   "metadata": {},
   "outputs": [],
   "source": []
  },
  {
   "cell_type": "code",
   "execution_count": null,
   "id": "703efef1",
   "metadata": {},
   "outputs": [],
   "source": []
  }
 ],
 "metadata": {
  "kernelspec": {
   "display_name": "Python 3 (ipykernel)",
   "language": "python",
   "name": "python3"
  },
  "language_info": {
   "codemirror_mode": {
    "name": "ipython",
    "version": 3
   },
   "file_extension": ".py",
   "mimetype": "text/x-python",
   "name": "python",
   "nbconvert_exporter": "python",
   "pygments_lexer": "ipython3",
   "version": "3.9.13"
  }
 },
 "nbformat": 4,
 "nbformat_minor": 5
}
